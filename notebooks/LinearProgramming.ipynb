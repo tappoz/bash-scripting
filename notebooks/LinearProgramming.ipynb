{
 "cells": [
  {
   "cell_type": "markdown",
   "metadata": {},
   "source": [
    "# Linear Programming\n",
    "\n",
    "Optimisation problems. Source: [https://realpython.com/linear-programming-python/](https://realpython.com/linear-programming-python/)\n",
    "\n",
    "- linear programming\n",
    "- mixed integer linear programming\n",
    "\n",
    "SciPy is straightforward to set up. Once you install it, you’ll have everything you need to start. Its subpackage scipy.optimize can be used for both linear and nonlinear optimization.\n",
    "\n",
    "PuLP allows you to choose solvers and formulate problems in a more natural way. The default solver used by PuLP is the COIN-OR Branch and Cut Solver (CBC). It’s connected to the COIN-OR Linear Programming Solver (CLP) for linear relaxations and the COIN-OR Cut Generator Library (CGL) for cuts generation.\n",
    "\n",
    "Another great open source solver is the GNU Linear Programming Kit (GLPK). Some well-known and very powerful commercial and proprietary solutions are Gurobi, CPLEX, and XPRESS.\n",
    "\n",
    "## Installation\n",
    "\n",
    "```sh\n",
    "python -m pip install -U \"scipy==1.4.*\" \"pulp==2.1\"\n",
    "```\n",
    "\n",
    "If problems with `pulp` e.g. `AttributeError: module 'enum' has no attribute 'IntFlag'`, then `pip uninstall -y enum34` and try again to install `pulp`.\n",
    "\n",
    "You might need to run pulptest or sudo pulptest to enable the default solvers for PuLP, especially if you’re using Linux or Mac: `pulptest`.\n",
    "\n",
    "On Debian and Ubuntu, use apt to install GLPK:\n",
    "\n",
    "```sh\n",
    "sudo apt install glpk-utils\n",
    "conda install -c conda-forge glpk\n",
    "```\n",
    "\n",
    "After completing the installation, you can check the version of GLPK: `glpsol --version`"
   ]
  },
  {
   "cell_type": "markdown",
   "metadata": {},
   "source": [
    "# Using SciPy\n",
    "\n",
    "## Example 1\n",
    "\n",
    "Maximize: $z = x + 2y$\n",
    "\n",
    "\\begin{equation}\n",
    "    \\begin{cases}\n",
    "      2x + y \\le 20\\\\\n",
    "      -4x + 5y \\le 10\\\\\n",
    "      -x + 2y \\ge -2\\\\\n",
    "      -x + 5y = 15\\\\\n",
    "      x \\ge 0\\\\\n",
    "      y \\ge 0\\\\\n",
    "    \\end{cases}\\,\n",
    "\\end{equation}"
   ]
  },
  {
   "cell_type": "markdown",
   "metadata": {},
   "source": [
    "`linprog()` solves only minimization (not maximization) problems and doesn’t allow inequality constraints with the greater than or equal to sign (≥).\n",
    "\n",
    "Workarounds:\n",
    "\n",
    "- Instead of maximizing $z = x + 2y$, you can minimize its negative $−z = −x − 2y$.\n",
    "- Instead of having the greater than or equal to sign, you can multiply the yellow inequality by −1 and get the opposite less than or equal to sign (≤).\n",
    "\n",
    "\\begin{equation}\n",
    "    \\begin{cases}\n",
    "      2x + y \\le 20\\\\\n",
    "      -4x + 5y \\le 10\\\\\n",
    "      x - 2y \\le 2\\\\\n",
    "      -x + 5y = 15\\\\\n",
    "      x \\ge 0\\\\\n",
    "      y \\ge 0\\\\\n",
    "    \\end{cases}\\,\n",
    "\\end{equation}\n",
    "\n",
    "Minimize: $-z = -x -2y$\n"
   ]
  },
  {
   "cell_type": "code",
   "execution_count": 1,
   "metadata": {},
   "outputs": [],
   "source": [
    "from scipy.optimize import linprog"
   ]
  },
  {
   "cell_type": "code",
   "execution_count": 2,
   "metadata": {},
   "outputs": [],
   "source": [
    "# objective function that we want to MINIMIZE\n",
    "obj = [-1, -2]\n",
    "#      ─┬  ─┬\n",
    "#       │   └┤ Coefficient for y\n",
    "#       └────┤ Coefficient for x"
   ]
  },
  {
   "cell_type": "code",
   "execution_count": 3,
   "metadata": {},
   "outputs": [],
   "source": [
    "# inequalities part of the system of equations\n",
    "lhs_ineq = [[ 2,  1],  # Red constraint left side\n",
    "            [-4,  5],  # Blue constraint left side\n",
    "            [ 1, -2]]  # Yellow constraint left side\n",
    "\n",
    "rhs_ineq = [20,  # Red constraint right side\n",
    "            10,  # Blue constraint right side\n",
    "             2]  # Yellow constraint right side"
   ]
  },
  {
   "cell_type": "code",
   "execution_count": 4,
   "metadata": {},
   "outputs": [],
   "source": [
    "# equations part of the system of equations\n",
    "lhs_eq = [[-1, 5]]  # Green constraint left side\n",
    "rhs_eq = [15]       # Green constraint right side"
   ]
  },
  {
   "cell_type": "markdown",
   "metadata": {},
   "source": [
    "- **`obj`** holds the coefficients from the objective function.\n",
    "- **`lhs_ineq`** holds the left-side coefficients from the inequality (red, blue, and yellow) constraints.\n",
    "- **`rhs_ineq`** holds the right-side coefficients from the inequality (red, blue, and yellow) constraints.\n",
    "- **`lhs_eq`** holds the left-side coefficients from the equality (green) constraint.\n",
    "- **`rhs_eq`** holds the right-side coefficients from the equality (green) constraint."
   ]
  },
  {
   "cell_type": "markdown",
   "metadata": {},
   "source": [
    "The next step is to define the bounds for each variable in the same order as the coefficients. In this case, they’re both between zero and positive infinity:\n",
    "\n",
    "This statement is redundant because `linprog()` takes these bounds (zero to positive infinity) by default."
   ]
  },
  {
   "cell_type": "code",
   "execution_count": 5,
   "metadata": {},
   "outputs": [],
   "source": [
    "bnd = [(0, float(\"inf\")),  # Bounds of x\n",
    "       (0, float(\"inf\"))]  # Bounds of y"
   ]
  },
  {
   "cell_type": "markdown",
   "metadata": {},
   "source": [
    "it’s time to optimize and solve your problem of interest"
   ]
  },
  {
   "cell_type": "code",
   "execution_count": 6,
   "metadata": {},
   "outputs": [],
   "source": [
    "opt = linprog(c=obj, A_ub=lhs_ineq, b_ub=rhs_ineq,\n",
    "              A_eq=lhs_eq, b_eq=rhs_eq, bounds=bnd,\n",
    "              method=\"revised simplex\")"
   ]
  },
  {
   "cell_type": "code",
   "execution_count": 7,
   "metadata": {},
   "outputs": [
    {
     "data": {
      "text/plain": [
       "     con: array([0.])\n",
       "     fun: -16.818181818181817\n",
       " message: 'Optimization terminated successfully.'\n",
       "     nit: 3\n",
       "   slack: array([ 0.        , 18.18181818,  3.36363636])\n",
       "  status: 0\n",
       " success: True\n",
       "       x: array([7.72727273, 4.54545455])"
      ]
     },
     "execution_count": 7,
     "metadata": {},
     "output_type": "execute_result"
    }
   ],
   "source": [
    "opt"
   ]
  },
  {
   "cell_type": "markdown",
   "metadata": {},
   "source": [
    "- The parameter `c` refers to the coefficients from the objective function. \n",
    "- `A_ub` and `b_ub` are related to the coefficients from the left and right sides of the inequality constraints, respectively.\n",
    "- Similarly, `A_eq` and `b_eq` refer to equality constraints. \n",
    "- You can use `bounds` to provide the lower and upper bounds on the decision variables.\n",
    "\n",
    "You can use the parameter `method` to define the linear programming method that you want to use. There are three options:\n",
    "\n",
    "- method=\"interior-point\" selects the interior-point method. This option is set by default.\n",
    "- method=\"revised simplex\" selects the revised two-phase simplex method.\n",
    "- method=\"simplex\" selects the legacy two-phase simplex method.\n",
    "\n",
    "`linprog()` returns a data structure with these attributes:\n",
    "\n",
    "- `.con` is the equality constraints residuals.\n",
    "- `.fun` is the objective function value at the optimum (if found).\n",
    "- `.message` is the status of the solution.\n",
    "- `.nit` is the number of iterations needed to finish the calculation.\n",
    "- `.slack` is the values of the slack variables, or the differences between the values of the left and right sides of the constraints.\n",
    "- `.status` is an integer between 0 and 4 that shows the status of the solution, such as 0 for when the optimal solution has been found.\n",
    "- `.success` is a Boolean that shows whether the optimal solution has been found.\n",
    "- `.x` is a NumPy array holding the optimal values of the decision variables.\n",
    "\n",
    "You can access these values separately e.g. `opt.fun` and so on."
   ]
  },
  {
   "cell_type": "markdown",
   "metadata": {},
   "source": [
    "## Example 2\n",
    "\n",
    "Resource allocation problem.\n",
    "\n",
    "Say that a factory produces four different products, and that the daily produced amount of the first product is $x_1$, the amount produced of the second product is $x_2$, and so on. The goal is to determine the profit-maximizing daily production amount for each product, bearing in mind the following conditions:\n",
    "\n",
    "1. The profit per unit of product is \\\\$20, \\\\$12, \\\\$40, and \\\\$25 for the first, second, third, and fourth product, respectively.\n",
    "2. Due to manpower constraints, the total number of units produced per day can’t exceed fifty.\n",
    "3. For each unit of the first product, three units of the raw material A are consumed. Each unit of the second product requires two units of the raw material A and one unit of the raw material B. Each unit of the third product needs one unit of A and two units of B. Finally, each unit of the fourth product requires three units of B.\n",
    "4. Due to the transportation and storage constraints, the factory can consume up to one hundred units of the raw material A and ninety units of B per day.\n",
    "\n",
    "Maximize profit: $max -[ 20 x_1 + 12 x_2 + 40 x_3 + 25 x_4 ]$\n",
    "\n",
    "\\begin{equation}\n",
    "    \\begin{cases}\n",
    "      x_1 + x_2 + x_3 + x_4 \\le 50 (manpower)\\\\\n",
    "      3 x_1 + 2 x_2 + x_3 \\le 100 (material A)\\\\\n",
    "      x_2 + 2 x_3 + 3 x_4 \\le 90 (material B)\\\\\n",
    "      x_1 \\ge 0\\\\\n",
    "      x_2 \\ge 0\\\\\n",
    "      x_3 \\ge 0\\\\\n",
    "      x_4 \\ge 0\\\\\n",
    "    \\end{cases}\\,\n",
    "\\end{equation}\n"
   ]
  },
  {
   "cell_type": "code",
   "execution_count": 8,
   "metadata": {},
   "outputs": [],
   "source": [
    "obj = [-20, -12, -40, -25]"
   ]
  },
  {
   "cell_type": "code",
   "execution_count": 9,
   "metadata": {},
   "outputs": [],
   "source": [
    "lhs_ineq = [[1, 1, 1, 1],  # Manpower\n",
    "            [3, 2, 1, 0],  # Material A\n",
    "            [0, 1, 2, 3]]  # Material B"
   ]
  },
  {
   "cell_type": "code",
   "execution_count": 10,
   "metadata": {},
   "outputs": [],
   "source": [
    "rhs_ineq = [ 50,  # Manpower\n",
    "            100,  # Material A\n",
    "             90]  # Material B"
   ]
  },
  {
   "cell_type": "code",
   "execution_count": 11,
   "metadata": {},
   "outputs": [],
   "source": [
    "opt = linprog(c=obj, A_ub=lhs_ineq, b_ub=rhs_ineq,\n",
    "              method=\"revised simplex\")"
   ]
  },
  {
   "cell_type": "code",
   "execution_count": 12,
   "metadata": {},
   "outputs": [
    {
     "data": {
      "text/plain": [
       "     con: array([], dtype=float64)\n",
       "     fun: -1900.0\n",
       " message: 'Optimization terminated successfully.'\n",
       "     nit: 2\n",
       "   slack: array([ 0., 40.,  0.])\n",
       "  status: 0\n",
       " success: True\n",
       "       x: array([ 5.,  0., 45.,  0.])"
      ]
     },
     "execution_count": 12,
     "metadata": {},
     "output_type": "execute_result"
    }
   ],
   "source": [
    "opt"
   ]
  },
  {
   "cell_type": "markdown",
   "metadata": {},
   "source": [
    "The result tells you that the maximal profit is $1900$ and corresponds to $x_1 = 5$ and $x_3 = 45$. It’s not profitable to produce the second and fourth products under the given conditions."
   ]
  },
  {
   "cell_type": "markdown",
   "metadata": {},
   "source": [
    "1. The third product brings the largest profit per unit, so the factory will produce it the most.\n",
    "\n",
    "2. The first slack is 0, which means that the values of the left and right sides of the manpower (first) constraint are the same. The factory produces 50 units per day, and that’s its full capacity.\n",
    "\n",
    "3. The second slack is 40 because the factory consumes 60 units of raw material A (15 units for the first product plus 45 for the third) out of a potential 100 units.\n",
    "\n",
    "4. The third slack is 0, which means that the factory consumes all 90 units of the raw material B. This entire amount is consumed for the third product. That’s why the factory can’t produce the second or fourth product at all and can’t produce more than 45 units of the third product. It lacks the raw material B."
   ]
  },
  {
   "cell_type": "markdown",
   "metadata": {},
   "source": [
    "# Using PuLP\n",
    "\n",
    "PuLP has a more convenient linear programming API than SciPy. You don’t have to mathematically modify your problem or use vectors and matrices. Everything is cleaner and less prone to errors.\n",
    "\n",
    "## Example 1\n",
    "\n",
    "Maximize: $z = x + 2y$\n",
    "\n",
    "\\begin{equation}\n",
    "    \\begin{cases}\n",
    "      2x + y \\le 20\\\\\n",
    "      -4x + 5y \\le 10\\\\\n",
    "      -x + 2y \\ge -2\\\\\n",
    "      -x + 5y = 15\\\\\n",
    "      x \\ge 0\\\\\n",
    "      y \\ge 0\\\\\n",
    "    \\end{cases}\\,\n",
    "\\end{equation}"
   ]
  },
  {
   "cell_type": "code",
   "execution_count": 13,
   "metadata": {},
   "outputs": [],
   "source": [
    "from pulp import LpMaximize, LpProblem, LpStatus, lpSum, LpVariable"
   ]
  },
  {
   "cell_type": "code",
   "execution_count": 14,
   "metadata": {},
   "outputs": [],
   "source": [
    "# Create the model\n",
    "model = LpProblem(name=\"small-problem\", sense=LpMaximize)"
   ]
  },
  {
   "cell_type": "markdown",
   "metadata": {},
   "source": [
    "Once that you have the model, you can define the decision variables as instances of the `LpVariable` class."
   ]
  },
  {
   "cell_type": "code",
   "execution_count": 15,
   "metadata": {},
   "outputs": [],
   "source": [
    "# Initialize the decision variables\n",
    "x = LpVariable(name=\"x\", lowBound=0)\n",
    "y = LpVariable(name=\"y\", lowBound=0)"
   ]
  },
  {
   "cell_type": "markdown",
   "metadata": {},
   "source": [
    "You need to provide a lower bound with `lowBound=0` because the default value is negative infinity. The parameter `upBound` defines the upper bound, but you can omit it here because it defaults to positive infinity.\n",
    "\n",
    "The optional parameter cat defines the category of a decision variable. If you’re working with continuous variables, then you can use the default value `\"Continuous\"`."
   ]
  },
  {
   "cell_type": "code",
   "execution_count": 16,
   "metadata": {},
   "outputs": [
    {
     "data": {
      "text/plain": [
       "pulp.pulp.LpAffineExpression"
      ]
     },
     "execution_count": 16,
     "metadata": {},
     "output_type": "execute_result"
    }
   ],
   "source": [
    "# example PuLP expression\n",
    "expression = 2 * x + 4 * y\n",
    "type(expression)"
   ]
  },
  {
   "cell_type": "code",
   "execution_count": 17,
   "metadata": {},
   "outputs": [
    {
     "data": {
      "text/plain": [
       "pulp.pulp.LpConstraint"
      ]
     },
     "execution_count": 17,
     "metadata": {},
     "output_type": "execute_result"
    }
   ],
   "source": [
    "# example PuLP expression\n",
    "constraint = 2 * x + 4 * y >= 8\n",
    "type(constraint)"
   ]
  },
  {
   "cell_type": "code",
   "execution_count": 18,
   "metadata": {},
   "outputs": [],
   "source": [
    "# Add the constraints to the model\n",
    "model += (2 * x + y <= 20, \"red_constraint\")\n",
    "model += (4 * x - 5 * y >= -10, \"blue_constraint\")\n",
    "model += (-x + 2 * y >= -2, \"yellow_constraint\")\n",
    "model += (-x + 5 * y == 15, \"green_constraint\")"
   ]
  },
  {
   "cell_type": "code",
   "execution_count": 19,
   "metadata": {},
   "outputs": [],
   "source": [
    "# Add the objective function to the model\n",
    "obj_func = x + 2 * y\n",
    "model += obj_func"
   ]
  },
  {
   "cell_type": "code",
   "execution_count": 20,
   "metadata": {},
   "outputs": [
    {
     "data": {
      "text/plain": [
       "small-problem:\n",
       "MAXIMIZE\n",
       "1*x + 2*y + 0\n",
       "SUBJECT TO\n",
       "red_constraint: 2 x + y <= 20\n",
       "\n",
       "blue_constraint: 4 x - 5 y >= -10\n",
       "\n",
       "yellow_constraint: - x + 2 y >= -2\n",
       "\n",
       "green_constraint: - x + 5 y = 15\n",
       "\n",
       "VARIABLES\n",
       "x Continuous\n",
       "y Continuous"
      ]
     },
     "execution_count": 20,
     "metadata": {},
     "output_type": "execute_result"
    }
   ],
   "source": [
    "# You can now see the full definition of this model:\n",
    "model"
   ]
  },
  {
   "cell_type": "code",
   "execution_count": 21,
   "metadata": {},
   "outputs": [],
   "source": [
    "# Solve the problem\n",
    "status = model.solve()"
   ]
  },
  {
   "cell_type": "markdown",
   "metadata": {},
   "source": [
    "`.solve()` calls the underlying solver, modifies the model object, and returns the integer status of the solution, which will be 1 if the optimum is found. "
   ]
  },
  {
   "cell_type": "code",
   "execution_count": 22,
   "metadata": {},
   "outputs": [
    {
     "name": "stdout",
     "output_type": "stream",
     "text": [
      "status: 1, Optimal\n"
     ]
    }
   ],
   "source": [
    "print(f\"status: {model.status}, {LpStatus[model.status]}\")"
   ]
  },
  {
   "cell_type": "code",
   "execution_count": 23,
   "metadata": {},
   "outputs": [
    {
     "name": "stdout",
     "output_type": "stream",
     "text": [
      "objective: 16.8181817\n"
     ]
    }
   ],
   "source": [
    "print(f\"objective: {model.objective.value()}\")"
   ]
  },
  {
   "cell_type": "code",
   "execution_count": 24,
   "metadata": {},
   "outputs": [
    {
     "name": "stdout",
     "output_type": "stream",
     "text": [
      "x: 7.7272727\n",
      "y: 4.5454545\n"
     ]
    }
   ],
   "source": [
    "for var in model.variables():\n",
    "    print(f\"{var.name}: {var.value()}\")"
   ]
  },
  {
   "cell_type": "code",
   "execution_count": 25,
   "metadata": {},
   "outputs": [
    {
     "name": "stdout",
     "output_type": "stream",
     "text": [
      "red_constraint: -9.99999993922529e-08\n",
      "blue_constraint: 18.181818300000003\n",
      "yellow_constraint: 3.3636362999999996\n",
      "green_constraint: -2.0000000233721948e-07\n"
     ]
    }
   ],
   "source": [
    "for name, constraint in model.constraints.items():\n",
    "    print(f\"{name}: {constraint.value()}\")"
   ]
  },
  {
   "cell_type": "markdown",
   "metadata": {},
   "source": [
    "`model.objective` holds the value of the objective function, `model.constraints` contains the values of the slack variables, and the objects `x` and `y` have the optimal values of the decision variables."
   ]
  },
  {
   "cell_type": "markdown",
   "metadata": {},
   "source": [
    "You can see which solver was used by calling `.solver`:"
   ]
  },
  {
   "cell_type": "code",
   "execution_count": 26,
   "metadata": {},
   "outputs": [
    {
     "data": {
      "text/plain": [
       "<pulp.apis.coin_api.PULP_CBC_CMD at 0x7fb08938aef0>"
      ]
     },
     "execution_count": 26,
     "metadata": {},
     "output_type": "execute_result"
    }
   ],
   "source": [
    "model.solver"
   ]
  },
  {
   "cell_type": "markdown",
   "metadata": {},
   "source": [
    "If you want to run a different solver, then you can specify it as an argument of .solve()"
   ]
  },
  {
   "cell_type": "code",
   "execution_count": 27,
   "metadata": {},
   "outputs": [],
   "source": [
    "from pulp import GLPK"
   ]
  },
  {
   "cell_type": "code",
   "execution_count": 28,
   "metadata": {},
   "outputs": [],
   "source": [
    "# Create the model\n",
    "model = LpProblem(name=\"small-problem\", sense=LpMaximize)\n",
    "\n",
    "# Initialize the decision variables\n",
    "x = LpVariable(name=\"x\", lowBound=0)\n",
    "y = LpVariable(name=\"y\", lowBound=0)\n",
    "\n",
    "# Add the constraints to the model\n",
    "model += (2 * x + y <= 20, \"red_constraint\")\n",
    "model += (4 * x - 5 * y >= -10, \"blue_constraint\")\n",
    "model += (-x + 2 * y >= -2, \"yellow_constraint\")\n",
    "model += (-x + 5 * y == 15, \"green_constraint\")\n",
    "\n",
    "# Add the objective function to the model\n",
    "model += lpSum([x, 2 * y])\n",
    "\n",
    "# Solve the problem\n",
    "status = model.solve(solver=GLPK(msg=False))"
   ]
  },
  {
   "cell_type": "code",
   "execution_count": 29,
   "metadata": {},
   "outputs": [
    {
     "name": "stdout",
     "output_type": "stream",
     "text": [
      "status: 1, Optimal\n",
      "objective: 16.81817\n",
      "x: 7.72727\n",
      "y: 4.54545\n",
      "red_constraint: -1.0000000000509601e-05\n",
      "blue_constraint: 18.181830000000005\n",
      "yellow_constraint: 3.3636299999999997\n",
      "green_constraint: -2.000000000279556e-05\n"
     ]
    }
   ],
   "source": [
    "print(f\"status: {model.status}, {LpStatus[model.status]}\")\n",
    "print(f\"objective: {model.objective.value()}\")\n",
    "for var in model.variables():\n",
    "    print(f\"{var.name}: {var.value()}\")\n",
    "for name, constraint in model.constraints.items():\n",
    "    print(f\"{name}: {constraint.value()}\")"
   ]
  },
  {
   "cell_type": "code",
   "execution_count": 30,
   "metadata": {},
   "outputs": [
    {
     "data": {
      "text/plain": [
       "<pulp.apis.glpk_api.GLPK_CMD at 0x7fb0891a6710>"
      ]
     },
     "execution_count": 30,
     "metadata": {},
     "output_type": "execute_result"
    }
   ],
   "source": [
    "model.solver"
   ]
  },
  {
   "cell_type": "markdown",
   "metadata": {},
   "source": [
    "**You can also use PuLP to solve mixed-integer linear programming problems.** To define an integer or binary variable, just pass `cat=\"Integer\"` or `cat=\"Binary\"` to `LpVariable`. Everything else remains the same:"
   ]
  },
  {
   "cell_type": "code",
   "execution_count": 31,
   "metadata": {},
   "outputs": [],
   "source": [
    "# Create the model\n",
    "model = LpProblem(name=\"small-problem\", sense=LpMaximize)\n",
    "\n",
    "# Initialize the decision variables: x is integer, y is continuous\n",
    "x = LpVariable(name=\"x\", lowBound=0, cat=\"Integer\")\n",
    "y = LpVariable(name=\"y\", lowBound=0)\n",
    "\n",
    "# Add the constraints to the model\n",
    "model += (2 * x + y <= 20, \"red_constraint\")\n",
    "model += (4 * x - 5 * y >= -10, \"blue_constraint\")\n",
    "model += (-x + 2 * y >= -2, \"yellow_constraint\")\n",
    "model += (-x + 5 * y == 15, \"green_constraint\")\n",
    "\n",
    "# Add the objective function to the model\n",
    "model += lpSum([x, 2 * y])\n",
    "\n",
    "# Solve the problem\n",
    "status = model.solve()"
   ]
  },
  {
   "cell_type": "code",
   "execution_count": 32,
   "metadata": {},
   "outputs": [
    {
     "name": "stdout",
     "output_type": "stream",
     "text": [
      "status: 1, Optimal\n",
      "objective: 15.8\n",
      "x: 7.0\n",
      "y: 4.4\n",
      "red_constraint: -1.5999999999999996\n",
      "blue_constraint: 16.0\n",
      "yellow_constraint: 3.8000000000000007\n",
      "green_constraint: 0.0\n"
     ]
    }
   ],
   "source": [
    "print(f\"status: {model.status}, {LpStatus[model.status]}\")\n",
    "print(f\"objective: {model.objective.value()}\")\n",
    "for var in model.variables():\n",
    "    print(f\"{var.name}: {var.value()}\")\n",
    "for name, constraint in model.constraints.items():\n",
    "    print(f\"{name}: {constraint.value()}\")"
   ]
  },
  {
   "cell_type": "code",
   "execution_count": 33,
   "metadata": {},
   "outputs": [
    {
     "data": {
      "text/plain": [
       "<pulp.apis.coin_api.PULP_CBC_CMD at 0x7fb08938aef0>"
      ]
     },
     "execution_count": 33,
     "metadata": {},
     "output_type": "execute_result"
    }
   ],
   "source": [
    "model.solver"
   ]
  },
  {
   "cell_type": "markdown",
   "metadata": {},
   "source": [
    "Now `x` is an integer, as specified in the model. (Technically it holds a float value with zero after the decimal point.) This fact changes the whole solution."
   ]
  },
  {
   "cell_type": "markdown",
   "metadata": {},
   "source": [
    "## Example 2\n",
    "\n",
    "Maximize profit: $max -[ 20 x_1 + 12 x_2 + 40 x_3 + 25 x_4 ]$\n",
    "\n",
    "\\begin{equation}\n",
    "    \\begin{cases}\n",
    "      x_1 + x_2 + x_3 + x_4 \\le 50 (manpower)\\\\\n",
    "      3 x_1 + 2 x_2 + x_3 \\le 100 (material A)\\\\\n",
    "      x_2 + 2 x_3 + 3 x_4 \\le 90 (material B)\\\\\n",
    "      x_1 \\ge 0\\\\\n",
    "      x_2 \\ge 0\\\\\n",
    "      x_3 \\ge 0\\\\\n",
    "      x_4 \\ge 0\\\\\n",
    "    \\end{cases}\\,\n",
    "\\end{equation}"
   ]
  },
  {
   "cell_type": "code",
   "execution_count": 34,
   "metadata": {},
   "outputs": [
    {
     "name": "stdout",
     "output_type": "stream",
     "text": [
      "status: 1, Optimal\n",
      "objective: 1900.0\n",
      "x1: 5.0\n",
      "x2: 0.0\n",
      "x3: 45.0\n",
      "x4: 0.0\n",
      "manpower: 0.0\n",
      "material_a: -40.0\n",
      "material_b: 0.0\n"
     ]
    }
   ],
   "source": [
    "# Define the model\n",
    "model = LpProblem(name=\"resource-allocation\", sense=LpMaximize)\n",
    "\n",
    "# Define the decision variables\n",
    "x = {i: LpVariable(name=f\"x{i}\", lowBound=0) for i in range(1, 5)}\n",
    "\n",
    "# Add constraints\n",
    "model += (lpSum(x.values()) <= 50, \"manpower\")\n",
    "model += (3 * x[1] + 2 * x[2] + x[3] <= 100, \"material_a\")\n",
    "model += (x[2] + 2 * x[3] + 3 * x[4] <= 90, \"material_b\")\n",
    "\n",
    "# Set the objective\n",
    "model += 20 * x[1] + 12 * x[2] + 40 * x[3] + 25 * x[4]\n",
    "\n",
    "# Solve the optimization problem\n",
    "status = model.solve()\n",
    "\n",
    "# Get the results\n",
    "print(f\"status: {model.status}, {LpStatus[model.status]}\")\n",
    "print(f\"objective: {model.objective.value()}\")\n",
    "\n",
    "for var in x.values():\n",
    "    print(f\"{var.name}: {var.value()}\")\n",
    "\n",
    "for name, constraint in model.constraints.items():\n",
    "    print(f\"{name}: {constraint.value()}\")"
   ]
  },
  {
   "cell_type": "markdown",
   "metadata": {},
   "source": [
    "Let’s make this problem more complicated and interesting. Say the factory can’t produce the first and third products in parallel due to a machinery issue. What’s the most profitable solution in this case?\n",
    "\n",
    "Now you have another logical constraint: if $x_1$ is positive, then $x_3$ must be zero and vice versa. This is where **binary decision variables** are very useful. "
   ]
  },
  {
   "cell_type": "code",
   "execution_count": 35,
   "metadata": {},
   "outputs": [
    {
     "name": "stdout",
     "output_type": "stream",
     "text": [
      "status: 1, Optimal\n",
      "objective: 1800.0\n",
      "x1: 0.0\n",
      "x2: 0.0\n",
      "x3: 45.0\n",
      "x4: 0.0\n",
      "y1: 0.0\n",
      "y3: 1.0\n",
      "manpower: -5.0\n",
      "material_a: -55.0\n",
      "material_b: 0.0\n",
      "x1_constraint: 0.0\n",
      "x3_constraint: -55.0\n",
      "y_constraint: 0.0\n"
     ]
    }
   ],
   "source": [
    "model = LpProblem(name=\"resource-allocation\", sense=LpMaximize)\n",
    "\n",
    "# Define the decision variables\n",
    "x = {i: LpVariable(name=f\"x{i}\", lowBound=0) for i in range(1, 5)}\n",
    "y = {i: LpVariable(name=f\"y{i}\", cat=\"Binary\") for i in (1, 3)}\n",
    "\n",
    "# Add constraints\n",
    "model += (lpSum(x.values()) <= 50, \"manpower\")\n",
    "model += (3 * x[1] + 2 * x[2] + x[3] <= 100, \"material_a\")\n",
    "model += (x[2] + 2 * x[3] + 3 * x[4] <= 90, \"material_b\")\n",
    "\n",
    "M = 100\n",
    "model += (x[1] <= y[1] * M, \"x1_constraint\")\n",
    "model += (x[3] <= y[3] * M, \"x3_constraint\")\n",
    "model += (y[1] + y[3] <= 1, \"y_constraint\")\n",
    "\n",
    "# Set objective\n",
    "model += 20 * x[1] + 12 * x[2] + 40 * x[3] + 25 * x[4]\n",
    "\n",
    "# Solve the optimization problem\n",
    "status = model.solve()\n",
    "\n",
    "print(f\"status: {model.status}, {LpStatus[model.status]}\")\n",
    "print(f\"objective: {model.objective.value()}\")\n",
    "\n",
    "for var in model.variables():\n",
    "    print(f\"{var.name}: {var.value()}\")\n",
    "\n",
    "for name, constraint in model.constraints.items():\n",
    "    print(f\"{name}: {constraint.value()}\")"
   ]
  },
  {
   "cell_type": "markdown",
   "metadata": {},
   "source": [
    "It turns out that the optimal approach is to exclude the first product and to produce only the third one."
   ]
  },
  {
   "cell_type": "markdown",
   "metadata": {},
   "source": [
    "# Linear Programming \n",
    "\n",
    "- Integer programming [https://towardsdatascience.com/integer-programming-in-python-1cbdfa240df2](https://towardsdatascience.com/integer-programming-in-python-1cbdfa240df2)\n",
    "- Knapsack Problem"
   ]
  },
  {
   "cell_type": "code",
   "execution_count": null,
   "metadata": {},
   "outputs": [],
   "source": []
  }
 ],
 "metadata": {
  "kernelspec": {
   "display_name": "Python 3",
   "language": "python",
   "name": "python3"
  },
  "language_info": {
   "codemirror_mode": {
    "name": "ipython",
    "version": 3
   },
   "file_extension": ".py",
   "mimetype": "text/x-python",
   "name": "python",
   "nbconvert_exporter": "python",
   "pygments_lexer": "ipython3",
   "version": "3.6.8"
  }
 },
 "nbformat": 4,
 "nbformat_minor": 2
}
